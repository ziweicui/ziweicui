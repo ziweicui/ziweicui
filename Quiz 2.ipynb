{
 "cells": [
  {
   "cell_type": "code",
   "execution_count": 1,
   "metadata": {},
   "outputs": [],
   "source": [
    "import pandas as pd \n",
    "import urllib.request, json\n",
    "#import requests\n",
    "import numpy as np  \n",
    "import matplotlib.pyplot as plt  \n",
    "#import seaborn as seabornInstance \n",
    "from sklearn.model_selection import train_test_split \n",
    "from sklearn.linear_model import LogisticRegression\n",
    "from sklearn import metrics\n",
    "%matplotlib inline"
   ]
  },
  {
   "cell_type": "code",
   "execution_count": 2,
   "metadata": {
    "scrolled": true
   },
   "outputs": [],
   "source": [
    "#Read dataset from URL \n",
    "url = 'https://raw.githubusercontent.com/mahmoudparsian/machine-learning-course/master/data/songs.csv'\n",
    "dataset=pd.read_csv(url, encoding ='latin1')"
   ]
  },
  {
   "cell_type": "code",
   "execution_count": 3,
   "metadata": {},
   "outputs": [
    {
     "data": {
      "text/html": [
       "<div>\n",
       "<style scoped>\n",
       "    .dataframe tbody tr th:only-of-type {\n",
       "        vertical-align: middle;\n",
       "    }\n",
       "\n",
       "    .dataframe tbody tr th {\n",
       "        vertical-align: top;\n",
       "    }\n",
       "\n",
       "    .dataframe thead th {\n",
       "        text-align: right;\n",
       "    }\n",
       "</style>\n",
       "<table border=\"1\" class=\"dataframe\">\n",
       "  <thead>\n",
       "    <tr style=\"text-align: right;\">\n",
       "      <th></th>\n",
       "      <th>year</th>\n",
       "      <th>songtitle</th>\n",
       "      <th>artistname</th>\n",
       "      <th>songID</th>\n",
       "      <th>artistID</th>\n",
       "      <th>timesignature</th>\n",
       "      <th>timesignature_confidence</th>\n",
       "      <th>loudness</th>\n",
       "      <th>tempo</th>\n",
       "      <th>tempo_confidence</th>\n",
       "      <th>...</th>\n",
       "      <th>timbre_7_max</th>\n",
       "      <th>timbre_8_min</th>\n",
       "      <th>timbre_8_max</th>\n",
       "      <th>timbre_9_min</th>\n",
       "      <th>timbre_9_max</th>\n",
       "      <th>timbre_10_min</th>\n",
       "      <th>timbre_10_max</th>\n",
       "      <th>timbre_11_min</th>\n",
       "      <th>timbre_11_max</th>\n",
       "      <th>Top10</th>\n",
       "    </tr>\n",
       "  </thead>\n",
       "  <tbody>\n",
       "    <tr>\n",
       "      <th>0</th>\n",
       "      <td>2010</td>\n",
       "      <td>This Is the House That Doubt Built</td>\n",
       "      <td>A Day to Remember</td>\n",
       "      <td>SOBGGAB12C5664F054</td>\n",
       "      <td>AROBSHL1187B9AFB01</td>\n",
       "      <td>3</td>\n",
       "      <td>0.853</td>\n",
       "      <td>-4.262</td>\n",
       "      <td>91.525</td>\n",
       "      <td>0.953</td>\n",
       "      <td>...</td>\n",
       "      <td>82.475</td>\n",
       "      <td>-52.025</td>\n",
       "      <td>39.116</td>\n",
       "      <td>-35.368</td>\n",
       "      <td>71.642</td>\n",
       "      <td>-126.440</td>\n",
       "      <td>18.658</td>\n",
       "      <td>-44.770</td>\n",
       "      <td>25.989</td>\n",
       "      <td>0</td>\n",
       "    </tr>\n",
       "    <tr>\n",
       "      <th>1</th>\n",
       "      <td>2010</td>\n",
       "      <td>Sticks &amp; Bricks</td>\n",
       "      <td>A Day to Remember</td>\n",
       "      <td>SOPAQHU1315CD47F31</td>\n",
       "      <td>AROBSHL1187B9AFB01</td>\n",
       "      <td>4</td>\n",
       "      <td>1.000</td>\n",
       "      <td>-4.051</td>\n",
       "      <td>140.048</td>\n",
       "      <td>0.921</td>\n",
       "      <td>...</td>\n",
       "      <td>106.918</td>\n",
       "      <td>-61.320</td>\n",
       "      <td>35.378</td>\n",
       "      <td>-81.928</td>\n",
       "      <td>74.574</td>\n",
       "      <td>-103.808</td>\n",
       "      <td>121.935</td>\n",
       "      <td>-38.892</td>\n",
       "      <td>22.513</td>\n",
       "      <td>0</td>\n",
       "    </tr>\n",
       "    <tr>\n",
       "      <th>2</th>\n",
       "      <td>2010</td>\n",
       "      <td>All I Want</td>\n",
       "      <td>A Day to Remember</td>\n",
       "      <td>SOOIZOU1376E7C6386</td>\n",
       "      <td>AROBSHL1187B9AFB01</td>\n",
       "      <td>4</td>\n",
       "      <td>1.000</td>\n",
       "      <td>-3.571</td>\n",
       "      <td>160.512</td>\n",
       "      <td>0.489</td>\n",
       "      <td>...</td>\n",
       "      <td>80.621</td>\n",
       "      <td>-59.773</td>\n",
       "      <td>45.979</td>\n",
       "      <td>-46.293</td>\n",
       "      <td>59.904</td>\n",
       "      <td>-108.313</td>\n",
       "      <td>33.300</td>\n",
       "      <td>-43.733</td>\n",
       "      <td>25.744</td>\n",
       "      <td>0</td>\n",
       "    </tr>\n",
       "    <tr>\n",
       "      <th>3</th>\n",
       "      <td>2010</td>\n",
       "      <td>It's Complicated</td>\n",
       "      <td>A Day to Remember</td>\n",
       "      <td>SODRYWD1315CD49DBE</td>\n",
       "      <td>AROBSHL1187B9AFB01</td>\n",
       "      <td>4</td>\n",
       "      <td>1.000</td>\n",
       "      <td>-3.815</td>\n",
       "      <td>97.525</td>\n",
       "      <td>0.794</td>\n",
       "      <td>...</td>\n",
       "      <td>96.675</td>\n",
       "      <td>-78.660</td>\n",
       "      <td>41.088</td>\n",
       "      <td>-49.194</td>\n",
       "      <td>95.440</td>\n",
       "      <td>-102.676</td>\n",
       "      <td>46.422</td>\n",
       "      <td>-59.439</td>\n",
       "      <td>37.082</td>\n",
       "      <td>0</td>\n",
       "    </tr>\n",
       "    <tr>\n",
       "      <th>4</th>\n",
       "      <td>2010</td>\n",
       "      <td>2nd Sucks</td>\n",
       "      <td>A Day to Remember</td>\n",
       "      <td>SOICMQB1315CD46EE3</td>\n",
       "      <td>AROBSHL1187B9AFB01</td>\n",
       "      <td>4</td>\n",
       "      <td>0.788</td>\n",
       "      <td>-4.707</td>\n",
       "      <td>140.053</td>\n",
       "      <td>0.286</td>\n",
       "      <td>...</td>\n",
       "      <td>110.332</td>\n",
       "      <td>-56.450</td>\n",
       "      <td>37.555</td>\n",
       "      <td>-48.588</td>\n",
       "      <td>67.570</td>\n",
       "      <td>-52.796</td>\n",
       "      <td>22.888</td>\n",
       "      <td>-50.414</td>\n",
       "      <td>32.758</td>\n",
       "      <td>0</td>\n",
       "    </tr>\n",
       "  </tbody>\n",
       "</table>\n",
       "<p>5 rows × 39 columns</p>\n",
       "</div>"
      ],
      "text/plain": [
       "   year                           songtitle         artistname  \\\n",
       "0  2010  This Is the House That Doubt Built  A Day to Remember   \n",
       "1  2010                     Sticks & Bricks  A Day to Remember   \n",
       "2  2010                          All I Want  A Day to Remember   \n",
       "3  2010                    It's Complicated  A Day to Remember   \n",
       "4  2010                           2nd Sucks  A Day to Remember   \n",
       "\n",
       "               songID            artistID  timesignature  \\\n",
       "0  SOBGGAB12C5664F054  AROBSHL1187B9AFB01              3   \n",
       "1  SOPAQHU1315CD47F31  AROBSHL1187B9AFB01              4   \n",
       "2  SOOIZOU1376E7C6386  AROBSHL1187B9AFB01              4   \n",
       "3  SODRYWD1315CD49DBE  AROBSHL1187B9AFB01              4   \n",
       "4  SOICMQB1315CD46EE3  AROBSHL1187B9AFB01              4   \n",
       "\n",
       "   timesignature_confidence  loudness    tempo  tempo_confidence  ...  \\\n",
       "0                     0.853    -4.262   91.525             0.953  ...   \n",
       "1                     1.000    -4.051  140.048             0.921  ...   \n",
       "2                     1.000    -3.571  160.512             0.489  ...   \n",
       "3                     1.000    -3.815   97.525             0.794  ...   \n",
       "4                     0.788    -4.707  140.053             0.286  ...   \n",
       "\n",
       "   timbre_7_max  timbre_8_min  timbre_8_max  timbre_9_min  timbre_9_max  \\\n",
       "0        82.475       -52.025        39.116       -35.368        71.642   \n",
       "1       106.918       -61.320        35.378       -81.928        74.574   \n",
       "2        80.621       -59.773        45.979       -46.293        59.904   \n",
       "3        96.675       -78.660        41.088       -49.194        95.440   \n",
       "4       110.332       -56.450        37.555       -48.588        67.570   \n",
       "\n",
       "   timbre_10_min  timbre_10_max  timbre_11_min  timbre_11_max  Top10  \n",
       "0       -126.440         18.658        -44.770         25.989      0  \n",
       "1       -103.808        121.935        -38.892         22.513      0  \n",
       "2       -108.313         33.300        -43.733         25.744      0  \n",
       "3       -102.676         46.422        -59.439         37.082      0  \n",
       "4        -52.796         22.888        -50.414         32.758      0  \n",
       "\n",
       "[5 rows x 39 columns]"
      ]
     },
     "execution_count": 3,
     "metadata": {},
     "output_type": "execute_result"
    }
   ],
   "source": [
    "#Preview the dataset\n",
    "dataset.head()"
   ]
  },
  {
   "cell_type": "code",
   "execution_count": 4,
   "metadata": {},
   "outputs": [
    {
     "name": "stdout",
     "output_type": "stream",
     "text": [
      "<class 'pandas.core.frame.DataFrame'>\n",
      "RangeIndex: 7574 entries, 0 to 7573\n",
      "Data columns (total 39 columns):\n",
      "year                        7574 non-null int64\n",
      "songtitle                   7574 non-null object\n",
      "artistname                  7574 non-null object\n",
      "songID                      7574 non-null object\n",
      "artistID                    7574 non-null object\n",
      "timesignature               7574 non-null int64\n",
      "timesignature_confidence    7574 non-null float64\n",
      "loudness                    7574 non-null float64\n",
      "tempo                       7574 non-null float64\n",
      "tempo_confidence            7574 non-null float64\n",
      "key                         7574 non-null int64\n",
      "key_confidence              7574 non-null float64\n",
      "energy                      7574 non-null float64\n",
      "pitch                       7574 non-null float64\n",
      "timbre_0_min                7574 non-null float64\n",
      "timbre_0_max                7574 non-null float64\n",
      "timbre_1_min                7574 non-null float64\n",
      "timbre_1_max                7574 non-null float64\n",
      "timbre_2_min                7574 non-null float64\n",
      "timbre_2_max                7574 non-null float64\n",
      "timbre_3_min                7574 non-null float64\n",
      "timbre_3_max                7574 non-null float64\n",
      "timbre_4_min                7574 non-null float64\n",
      "timbre_4_max                7574 non-null float64\n",
      "timbre_5_min                7574 non-null float64\n",
      "timbre_5_max                7574 non-null float64\n",
      "timbre_6_min                7574 non-null float64\n",
      "timbre_6_max                7574 non-null float64\n",
      "timbre_7_min                7574 non-null float64\n",
      "timbre_7_max                7574 non-null float64\n",
      "timbre_8_min                7574 non-null float64\n",
      "timbre_8_max                7574 non-null float64\n",
      "timbre_9_min                7574 non-null float64\n",
      "timbre_9_max                7574 non-null float64\n",
      "timbre_10_min               7574 non-null float64\n",
      "timbre_10_max               7574 non-null float64\n",
      "timbre_11_min               7574 non-null float64\n",
      "timbre_11_max               7574 non-null float64\n",
      "Top10                       7574 non-null int64\n",
      "dtypes: float64(31), int64(4), object(4)\n",
      "memory usage: 2.3+ MB\n"
     ]
    }
   ],
   "source": [
    "#Get basic information about dataset, as following showed there are not null values, not need to fill null value\n",
    "dataset.info()"
   ]
  },
  {
   "cell_type": "code",
   "execution_count": 5,
   "metadata": {},
   "outputs": [
    {
     "data": {
      "text/plain": [
       "(7574, 39)"
      ]
     },
     "execution_count": 5,
     "metadata": {},
     "output_type": "execute_result"
    }
   ],
   "source": [
    "dataset.shape"
   ]
  },
  {
   "cell_type": "code",
   "execution_count": 6,
   "metadata": {},
   "outputs": [
    {
     "data": {
      "text/html": [
       "<div>\n",
       "<style scoped>\n",
       "    .dataframe tbody tr th:only-of-type {\n",
       "        vertical-align: middle;\n",
       "    }\n",
       "\n",
       "    .dataframe tbody tr th {\n",
       "        vertical-align: top;\n",
       "    }\n",
       "\n",
       "    .dataframe thead th {\n",
       "        text-align: right;\n",
       "    }\n",
       "</style>\n",
       "<table border=\"1\" class=\"dataframe\">\n",
       "  <thead>\n",
       "    <tr style=\"text-align: right;\">\n",
       "      <th></th>\n",
       "      <th>year</th>\n",
       "      <th>timesignature</th>\n",
       "      <th>timesignature_confidence</th>\n",
       "      <th>loudness</th>\n",
       "      <th>tempo</th>\n",
       "      <th>tempo_confidence</th>\n",
       "      <th>key</th>\n",
       "      <th>key_confidence</th>\n",
       "      <th>energy</th>\n",
       "      <th>pitch</th>\n",
       "      <th>...</th>\n",
       "      <th>timbre_7_max</th>\n",
       "      <th>timbre_8_min</th>\n",
       "      <th>timbre_8_max</th>\n",
       "      <th>timbre_9_min</th>\n",
       "      <th>timbre_9_max</th>\n",
       "      <th>timbre_10_min</th>\n",
       "      <th>timbre_10_max</th>\n",
       "      <th>timbre_11_min</th>\n",
       "      <th>timbre_11_max</th>\n",
       "      <th>Top10</th>\n",
       "    </tr>\n",
       "  </thead>\n",
       "  <tbody>\n",
       "    <tr>\n",
       "      <th>count</th>\n",
       "      <td>7574.000000</td>\n",
       "      <td>7574.000000</td>\n",
       "      <td>7574.000000</td>\n",
       "      <td>7574.000000</td>\n",
       "      <td>7574.000000</td>\n",
       "      <td>7574.000000</td>\n",
       "      <td>7574.000000</td>\n",
       "      <td>7574.000000</td>\n",
       "      <td>7574.000000</td>\n",
       "      <td>7574.000000</td>\n",
       "      <td>...</td>\n",
       "      <td>7574.000000</td>\n",
       "      <td>7574.000000</td>\n",
       "      <td>7574.000000</td>\n",
       "      <td>7574.000000</td>\n",
       "      <td>7574.000000</td>\n",
       "      <td>7574.000000</td>\n",
       "      <td>7574.000000</td>\n",
       "      <td>7574.000000</td>\n",
       "      <td>7574.000000</td>\n",
       "      <td>7574.000000</td>\n",
       "    </tr>\n",
       "    <tr>\n",
       "      <th>mean</th>\n",
       "      <td>2001.455902</td>\n",
       "      <td>3.893979</td>\n",
       "      <td>0.853307</td>\n",
       "      <td>-8.817262</td>\n",
       "      <td>107.348267</td>\n",
       "      <td>0.622866</td>\n",
       "      <td>5.384605</td>\n",
       "      <td>0.433843</td>\n",
       "      <td>0.675471</td>\n",
       "      <td>0.010817</td>\n",
       "      <td>...</td>\n",
       "      <td>95.653221</td>\n",
       "      <td>-63.703984</td>\n",
       "      <td>50.057489</td>\n",
       "      <td>-59.515016</td>\n",
       "      <td>68.028067</td>\n",
       "      <td>-87.340055</td>\n",
       "      <td>55.520722</td>\n",
       "      <td>-50.868457</td>\n",
       "      <td>47.490774</td>\n",
       "      <td>0.147742</td>\n",
       "    </tr>\n",
       "    <tr>\n",
       "      <th>std</th>\n",
       "      <td>5.815223</td>\n",
       "      <td>0.532561</td>\n",
       "      <td>0.243748</td>\n",
       "      <td>4.377079</td>\n",
       "      <td>24.665030</td>\n",
       "      <td>0.304656</td>\n",
       "      <td>3.572579</td>\n",
       "      <td>0.273826</td>\n",
       "      <td>0.243473</td>\n",
       "      <td>0.013671</td>\n",
       "      <td>...</td>\n",
       "      <td>26.859726</td>\n",
       "      <td>15.970244</td>\n",
       "      <td>14.463524</td>\n",
       "      <td>17.190527</td>\n",
       "      <td>20.381321</td>\n",
       "      <td>30.464274</td>\n",
       "      <td>23.549473</td>\n",
       "      <td>11.701530</td>\n",
       "      <td>12.463966</td>\n",
       "      <td>0.354868</td>\n",
       "    </tr>\n",
       "    <tr>\n",
       "      <th>min</th>\n",
       "      <td>1990.000000</td>\n",
       "      <td>0.000000</td>\n",
       "      <td>0.000000</td>\n",
       "      <td>-42.451000</td>\n",
       "      <td>0.000000</td>\n",
       "      <td>0.000000</td>\n",
       "      <td>0.000000</td>\n",
       "      <td>0.000000</td>\n",
       "      <td>0.000020</td>\n",
       "      <td>0.000000</td>\n",
       "      <td>...</td>\n",
       "      <td>15.699000</td>\n",
       "      <td>-158.756000</td>\n",
       "      <td>-25.955000</td>\n",
       "      <td>-149.507000</td>\n",
       "      <td>8.415000</td>\n",
       "      <td>-208.819000</td>\n",
       "      <td>-6.359000</td>\n",
       "      <td>-145.599000</td>\n",
       "      <td>7.200000</td>\n",
       "      <td>0.000000</td>\n",
       "    </tr>\n",
       "    <tr>\n",
       "      <th>25%</th>\n",
       "      <td>1997.000000</td>\n",
       "      <td>4.000000</td>\n",
       "      <td>0.819250</td>\n",
       "      <td>-10.847000</td>\n",
       "      <td>88.860250</td>\n",
       "      <td>0.372000</td>\n",
       "      <td>2.000000</td>\n",
       "      <td>0.204000</td>\n",
       "      <td>0.500138</td>\n",
       "      <td>0.003000</td>\n",
       "      <td>...</td>\n",
       "      <td>76.498000</td>\n",
       "      <td>-73.050750</td>\n",
       "      <td>40.584500</td>\n",
       "      <td>-70.282500</td>\n",
       "      <td>53.037250</td>\n",
       "      <td>-105.130250</td>\n",
       "      <td>39.196000</td>\n",
       "      <td>-58.058000</td>\n",
       "      <td>38.975250</td>\n",
       "      <td>0.000000</td>\n",
       "    </tr>\n",
       "    <tr>\n",
       "      <th>50%</th>\n",
       "      <td>2002.000000</td>\n",
       "      <td>4.000000</td>\n",
       "      <td>0.979000</td>\n",
       "      <td>-7.649000</td>\n",
       "      <td>103.268000</td>\n",
       "      <td>0.701500</td>\n",
       "      <td>6.000000</td>\n",
       "      <td>0.451500</td>\n",
       "      <td>0.718160</td>\n",
       "      <td>0.007000</td>\n",
       "      <td>...</td>\n",
       "      <td>94.632500</td>\n",
       "      <td>-62.661500</td>\n",
       "      <td>49.220000</td>\n",
       "      <td>-58.650000</td>\n",
       "      <td>65.935000</td>\n",
       "      <td>-83.074000</td>\n",
       "      <td>50.895000</td>\n",
       "      <td>-50.892500</td>\n",
       "      <td>46.437500</td>\n",
       "      <td>0.000000</td>\n",
       "    </tr>\n",
       "    <tr>\n",
       "      <th>75%</th>\n",
       "      <td>2006.000000</td>\n",
       "      <td>4.000000</td>\n",
       "      <td>1.000000</td>\n",
       "      <td>-5.640000</td>\n",
       "      <td>124.800500</td>\n",
       "      <td>0.892000</td>\n",
       "      <td>9.000000</td>\n",
       "      <td>0.646000</td>\n",
       "      <td>0.887396</td>\n",
       "      <td>0.014000</td>\n",
       "      <td>...</td>\n",
       "      <td>112.708250</td>\n",
       "      <td>-52.982750</td>\n",
       "      <td>58.462000</td>\n",
       "      <td>-47.699750</td>\n",
       "      <td>81.267000</td>\n",
       "      <td>-64.518000</td>\n",
       "      <td>66.593000</td>\n",
       "      <td>-43.292250</td>\n",
       "      <td>55.030250</td>\n",
       "      <td>0.000000</td>\n",
       "    </tr>\n",
       "    <tr>\n",
       "      <th>max</th>\n",
       "      <td>2010.000000</td>\n",
       "      <td>7.000000</td>\n",
       "      <td>1.000000</td>\n",
       "      <td>1.305000</td>\n",
       "      <td>244.307000</td>\n",
       "      <td>1.000000</td>\n",
       "      <td>11.000000</td>\n",
       "      <td>1.000000</td>\n",
       "      <td>0.998492</td>\n",
       "      <td>0.541000</td>\n",
       "      <td>...</td>\n",
       "      <td>214.819000</td>\n",
       "      <td>-2.382000</td>\n",
       "      <td>144.985000</td>\n",
       "      <td>1.140000</td>\n",
       "      <td>161.518000</td>\n",
       "      <td>-10.640000</td>\n",
       "      <td>192.417000</td>\n",
       "      <td>-6.497000</td>\n",
       "      <td>110.272000</td>\n",
       "      <td>1.000000</td>\n",
       "    </tr>\n",
       "  </tbody>\n",
       "</table>\n",
       "<p>8 rows × 35 columns</p>\n",
       "</div>"
      ],
      "text/plain": [
       "              year  timesignature  timesignature_confidence     loudness  \\\n",
       "count  7574.000000    7574.000000               7574.000000  7574.000000   \n",
       "mean   2001.455902       3.893979                  0.853307    -8.817262   \n",
       "std       5.815223       0.532561                  0.243748     4.377079   \n",
       "min    1990.000000       0.000000                  0.000000   -42.451000   \n",
       "25%    1997.000000       4.000000                  0.819250   -10.847000   \n",
       "50%    2002.000000       4.000000                  0.979000    -7.649000   \n",
       "75%    2006.000000       4.000000                  1.000000    -5.640000   \n",
       "max    2010.000000       7.000000                  1.000000     1.305000   \n",
       "\n",
       "             tempo  tempo_confidence          key  key_confidence  \\\n",
       "count  7574.000000       7574.000000  7574.000000     7574.000000   \n",
       "mean    107.348267          0.622866     5.384605        0.433843   \n",
       "std      24.665030          0.304656     3.572579        0.273826   \n",
       "min       0.000000          0.000000     0.000000        0.000000   \n",
       "25%      88.860250          0.372000     2.000000        0.204000   \n",
       "50%     103.268000          0.701500     6.000000        0.451500   \n",
       "75%     124.800500          0.892000     9.000000        0.646000   \n",
       "max     244.307000          1.000000    11.000000        1.000000   \n",
       "\n",
       "            energy        pitch  ...  timbre_7_max  timbre_8_min  \\\n",
       "count  7574.000000  7574.000000  ...   7574.000000   7574.000000   \n",
       "mean      0.675471     0.010817  ...     95.653221    -63.703984   \n",
       "std       0.243473     0.013671  ...     26.859726     15.970244   \n",
       "min       0.000020     0.000000  ...     15.699000   -158.756000   \n",
       "25%       0.500138     0.003000  ...     76.498000    -73.050750   \n",
       "50%       0.718160     0.007000  ...     94.632500    -62.661500   \n",
       "75%       0.887396     0.014000  ...    112.708250    -52.982750   \n",
       "max       0.998492     0.541000  ...    214.819000     -2.382000   \n",
       "\n",
       "       timbre_8_max  timbre_9_min  timbre_9_max  timbre_10_min  timbre_10_max  \\\n",
       "count   7574.000000   7574.000000   7574.000000    7574.000000    7574.000000   \n",
       "mean      50.057489    -59.515016     68.028067     -87.340055      55.520722   \n",
       "std       14.463524     17.190527     20.381321      30.464274      23.549473   \n",
       "min      -25.955000   -149.507000      8.415000    -208.819000      -6.359000   \n",
       "25%       40.584500    -70.282500     53.037250    -105.130250      39.196000   \n",
       "50%       49.220000    -58.650000     65.935000     -83.074000      50.895000   \n",
       "75%       58.462000    -47.699750     81.267000     -64.518000      66.593000   \n",
       "max      144.985000      1.140000    161.518000     -10.640000     192.417000   \n",
       "\n",
       "       timbre_11_min  timbre_11_max        Top10  \n",
       "count    7574.000000    7574.000000  7574.000000  \n",
       "mean      -50.868457      47.490774     0.147742  \n",
       "std        11.701530      12.463966     0.354868  \n",
       "min      -145.599000       7.200000     0.000000  \n",
       "25%       -58.058000      38.975250     0.000000  \n",
       "50%       -50.892500      46.437500     0.000000  \n",
       "75%       -43.292250      55.030250     0.000000  \n",
       "max        -6.497000     110.272000     1.000000  \n",
       "\n",
       "[8 rows x 35 columns]"
      ]
     },
     "execution_count": 6,
     "metadata": {},
     "output_type": "execute_result"
    }
   ],
   "source": [
    "#See the statistical detail of this dataser\n",
    "dataset.describe()"
   ]
  },
  {
   "cell_type": "markdown",
   "metadata": {},
   "source": [
    "# 1.1 - Understanding the Data"
   ]
  },
  {
   "cell_type": "markdown",
   "metadata": {},
   "source": [
    "### 1.1 How many observations (songs) are there in total?"
   ]
  },
  {
   "cell_type": "code",
   "execution_count": 7,
   "metadata": {},
   "outputs": [
    {
     "data": {
      "text/plain": [
       "7574"
      ]
     },
     "execution_count": 7,
     "metadata": {},
     "output_type": "execute_result"
    }
   ],
   "source": [
    "len(dataset)"
   ]
  },
  {
   "cell_type": "markdown",
   "metadata": {},
   "source": [
    "### 1.2 How many Top-10?"
   ]
  },
  {
   "cell_type": "code",
   "execution_count": 8,
   "metadata": {},
   "outputs": [
    {
     "data": {
      "text/plain": [
       "1119"
      ]
     },
     "execution_count": 8,
     "metadata": {},
     "output_type": "execute_result"
    }
   ],
   "source": [
    "Top_10_num = len(dataset[dataset['Top10'] == 1])\n",
    "Top_10_num"
   ]
  },
  {
   "cell_type": "markdown",
   "metadata": {},
   "source": [
    "### 1.3 How many non Top-10?"
   ]
  },
  {
   "cell_type": "code",
   "execution_count": 9,
   "metadata": {},
   "outputs": [
    {
     "data": {
      "text/plain": [
       "6455"
      ]
     },
     "execution_count": 9,
     "metadata": {},
     "output_type": "execute_result"
    }
   ],
   "source": [
    "non_Top_10_num = len(dataset[dataset['Top10'] == 0])\n",
    "non_Top_10_num"
   ]
  },
  {
   "cell_type": "code",
   "execution_count": 10,
   "metadata": {},
   "outputs": [
    {
     "data": {
      "text/plain": [
       "7574"
      ]
     },
     "execution_count": 10,
     "metadata": {},
     "output_type": "execute_result"
    }
   ],
   "source": [
    "#Double check the sum is same with previous result\n",
    "total_num=non_Top_10_num+Top_10_num\n",
    "total_num"
   ]
  },
  {
   "cell_type": "markdown",
   "metadata": {},
   "source": [
    "# 1.2 - Understanding the Data"
   ]
  },
  {
   "cell_type": "markdown",
   "metadata": {},
   "source": [
    "### How many songs does the dataset include for which the artist name is \"Michael Jackson\"?"
   ]
  },
  {
   "cell_type": "code",
   "execution_count": 11,
   "metadata": {},
   "outputs": [
    {
     "data": {
      "text/plain": [
       "18"
      ]
     },
     "execution_count": 11,
     "metadata": {},
     "output_type": "execute_result"
    }
   ],
   "source": [
    "MJ_num = len(dataset[dataset['artistname']== \"Michael Jackson\"])\n",
    "MJ_num"
   ]
  },
  {
   "cell_type": "markdown",
   "metadata": {},
   "source": [
    "# 2.1 - Creating Prediction Model"
   ]
  },
  {
   "cell_type": "code",
   "execution_count": 12,
   "metadata": {},
   "outputs": [],
   "source": [
    "trainset=dataset[dataset['year']<=2009]\n",
    "testset=dataset[dataset['year']>=2010]"
   ]
  },
  {
   "cell_type": "code",
   "execution_count": 13,
   "metadata": {},
   "outputs": [
    {
     "data": {
      "text/plain": [
       "7574"
      ]
     },
     "execution_count": 13,
     "metadata": {},
     "output_type": "execute_result"
    }
   ],
   "source": [
    "#This showed train data and test data including all data\n",
    "len(trainset)+len(testset)"
   ]
  },
  {
   "cell_type": "markdown",
   "metadata": {},
   "source": [
    "### How many observations (songs) are in the training set?"
   ]
  },
  {
   "cell_type": "code",
   "execution_count": 14,
   "metadata": {},
   "outputs": [
    {
     "data": {
      "text/plain": [
       "7201"
      ]
     },
     "execution_count": 14,
     "metadata": {},
     "output_type": "execute_result"
    }
   ],
   "source": [
    "train_num = len(trainset)\n",
    "train_num"
   ]
  },
  {
   "cell_type": "markdown",
   "metadata": {},
   "source": [
    "### How many observations (songs) are in the test set?"
   ]
  },
  {
   "cell_type": "code",
   "execution_count": 15,
   "metadata": {},
   "outputs": [
    {
     "data": {
      "text/plain": [
       "373"
      ]
     },
     "execution_count": 15,
     "metadata": {},
     "output_type": "execute_result"
    }
   ],
   "source": [
    "test_num = len(testset)\n",
    "test_num"
   ]
  },
  {
   "cell_type": "markdown",
   "metadata": {},
   "source": [
    "# 2.2 - Creating  Prediction Model"
   ]
  },
  {
   "cell_type": "markdown",
   "metadata": {},
   "source": [
    "### Step 1: we want to exclude some of the variables in our dataset from being used as independent variables (\"year\", \"songtitle\", \"artistname\", \"songID\", and \"artistID\")."
   ]
  },
  {
   "cell_type": "code",
   "execution_count": 16,
   "metadata": {},
   "outputs": [],
   "source": [
    "#Drop columns for train data sets\n",
    "X_train = trainset.drop([\"year\", \"songtitle\", \"artistname\", \"songID\", \"artistID\", \"Top10\"], axis=1)\n",
    "y_train = trainset.Top10"
   ]
  },
  {
   "cell_type": "code",
   "execution_count": 17,
   "metadata": {},
   "outputs": [],
   "source": [
    "#Drop columns for test data sets\n",
    "X_test = testset.drop([\"year\", \"songtitle\", \"artistname\", \"songID\", \"artistID\", \"Top10\"], axis=1)\n",
    "y_test = testset.Top10"
   ]
  },
  {
   "cell_type": "markdown",
   "metadata": {},
   "source": [
    "### Step 2: build a logistic regression model to predict Top10 using the training data.  You may enumerate all the remaining independent variables"
   ]
  },
  {
   "cell_type": "code",
   "execution_count": 18,
   "metadata": {},
   "outputs": [],
   "source": [
    "lr=LogisticRegression()"
   ]
  },
  {
   "cell_type": "code",
   "execution_count": 19,
   "metadata": {},
   "outputs": [
    {
     "name": "stderr",
     "output_type": "stream",
     "text": [
      "//anaconda3/lib/python3.7/site-packages/sklearn/linear_model/logistic.py:432: FutureWarning: Default solver will be changed to 'lbfgs' in 0.22. Specify a solver to silence this warning.\n",
      "  FutureWarning)\n"
     ]
    },
    {
     "data": {
      "text/plain": [
       "LogisticRegression(C=1.0, class_weight=None, dual=False, fit_intercept=True,\n",
       "                   intercept_scaling=1, l1_ratio=None, max_iter=100,\n",
       "                   multi_class='warn', n_jobs=None, penalty='l2',\n",
       "                   random_state=None, solver='warn', tol=0.0001, verbose=0,\n",
       "                   warm_start=False)"
      ]
     },
     "execution_count": 19,
     "metadata": {},
     "output_type": "execute_result"
    }
   ],
   "source": [
    "lr.fit(X_train,y_train)"
   ]
  },
  {
   "cell_type": "markdown",
   "metadata": {},
   "source": [
    "# 2.3 - Creating Prediction Model"
   ]
  },
  {
   "cell_type": "markdown",
   "metadata": {},
   "source": [
    "### Let's now think about the variables in our dataset related to the confidence of the time signature, key, and tempo (timesignature_confidence, key_confidence, and tempo_confidence). Our model seems to indicate that these confidence variables are significant (rather than the variables timesignature, key, and tempo themselves). What does the model suggest?\n",
    "\n",
    "### A. The lower our confidence about time signature, key and tempo, the more likely the song is to be in the Top 10\n",
    "### B. The higher our confidence about time signature, key and tempo, the more likely the song is to be in the Top 10"
   ]
  },
  {
   "cell_type": "code",
   "execution_count": 20,
   "metadata": {},
   "outputs": [
    {
     "data": {
      "text/plain": [
       "timesignature_confidence    0.060802\n",
       "Name: Top10, dtype: float64"
      ]
     },
     "execution_count": 20,
     "metadata": {},
     "output_type": "execute_result"
    }
   ],
   "source": [
    "#Find the corralation between selected columns with \"Top10\" column\n",
    "corr_ts_confi= dataset.corr()['Top10'][['timesignature_confidence']]\n",
    "corr_ts_confi"
   ]
  },
  {
   "cell_type": "code",
   "execution_count": 21,
   "metadata": {},
   "outputs": [
    {
     "data": {
      "text/plain": [
       "key_confidence    0.010182\n",
       "Name: Top10, dtype: float64"
      ]
     },
     "execution_count": 21,
     "metadata": {},
     "output_type": "execute_result"
    }
   ],
   "source": [
    "corr_key_confi= dataset.corr()['Top10'][['key_confidence']]\n",
    "corr_key_confi"
   ]
  },
  {
   "cell_type": "code",
   "execution_count": 22,
   "metadata": {},
   "outputs": [
    {
     "data": {
      "text/plain": [
       "tempo_confidence    0.084852\n",
       "Name: Top10, dtype: float64"
      ]
     },
     "execution_count": 22,
     "metadata": {},
     "output_type": "execute_result"
    }
   ],
   "source": [
    "corr_tempo_confi= dataset.corr()['Top10'][['tempo_confidence']]\n",
    "corr_tempo_confi"
   ]
  },
  {
   "cell_type": "markdown",
   "metadata": {},
   "source": [
    "### Answer B: All corralation for selected variables are positive. Therefore the answer B is right"
   ]
  },
  {
   "cell_type": "markdown",
   "metadata": {},
   "source": [
    "# 2.4 - Creating Prediction Model"
   ]
  },
  {
   "cell_type": "code",
   "execution_count": 23,
   "metadata": {},
   "outputs": [
    {
     "data": {
      "text/plain": [
       "Index(['timesignature', 'timesignature_confidence', 'loudness', 'tempo',\n",
       "       'tempo_confidence', 'key', 'key_confidence', 'energy', 'pitch',\n",
       "       'timbre_0_min', 'timbre_0_max', 'timbre_1_min', 'timbre_1_max',\n",
       "       'timbre_2_min', 'timbre_2_max', 'timbre_3_min', 'timbre_3_max',\n",
       "       'timbre_4_min', 'timbre_4_max', 'timbre_5_min', 'timbre_5_max',\n",
       "       'timbre_6_min', 'timbre_6_max', 'timbre_7_min', 'timbre_7_max',\n",
       "       'timbre_8_min', 'timbre_8_max', 'timbre_9_min', 'timbre_9_max',\n",
       "       'timbre_10_min', 'timbre_10_max', 'timbre_11_min', 'timbre_11_max'],\n",
       "      dtype='object')"
      ]
     },
     "execution_count": 23,
     "metadata": {},
     "output_type": "execute_result"
    }
   ],
   "source": [
    "X_train.columns"
   ]
  },
  {
   "cell_type": "code",
   "execution_count": 24,
   "metadata": {},
   "outputs": [
    {
     "data": {
      "text/plain": [
       "[('timesignature', 0.25595736634635335),\n",
       " ('timesignature_confidence', 0.7502127263537941),\n",
       " ('loudness', 0.11908467924126351),\n",
       " ('tempo', 0.001898513381516748),\n",
       " ('tempo_confidence', 0.5729363013741708),\n",
       " ('key', 0.018833284323349568),\n",
       " ('key_confidence', 0.3412227074530119),\n",
       " ('energy', -1.1446252155378969),\n",
       " ('pitch', -0.22625889264973217),\n",
       " ('timbre_0_min', 0.025082613006561852),\n",
       " ('timbre_0_max', -0.1556494110831258),\n",
       " ('timbre_1_min', 0.006032227431534334),\n",
       " ('timbre_1_max', -0.0005370469864139916),\n",
       " ('timbre_2_min', -0.003282103479272596),\n",
       " ('timbre_2_max', 0.0002521927157005098),\n",
       " ('timbre_3_min', 0.0007616279260705753),\n",
       " ('timbre_3_max', -0.003009047259477765),\n",
       " ('timbre_4_min', 0.00789093357071326),\n",
       " ('timbre_4_max', 0.007139303291512327),\n",
       " ('timbre_5_min', -0.006513943789397778),\n",
       " ('timbre_5_max', 0.00036575738232949524),\n",
       " ('timbre_6_min', -0.01726698193653194),\n",
       " ('timbre_6_max', 0.005274577933273473),\n",
       " ('timbre_7_min', -0.005371005837465241),\n",
       " ('timbre_7_max', -0.0029732170771977796),\n",
       " ('timbre_8_min', 0.0035263974874941463),\n",
       " ('timbre_8_max', 0.007965867317540115),\n",
       " ('timbre_9_min', 0.0003136710147378237),\n",
       " ('timbre_9_max', 0.0035865784544089857),\n",
       " ('timbre_10_min', 0.0033546888228165447),\n",
       " ('timbre_10_max', 0.006415522834841869),\n",
       " ('timbre_11_min', -0.030696506229672703),\n",
       " ('timbre_11_max', 0.019771829331507933)]"
      ]
     },
     "execution_count": 24,
     "metadata": {},
     "output_type": "execute_result"
    }
   ],
   "source": [
    "# Paired coefficients with each variables\n",
    "list(zip(X_train.columns, lr.coef_[0]))"
   ]
  },
  {
   "cell_type": "markdown",
   "metadata": {},
   "source": [
    "### Answer B: The coefficents of timesignature_confidence, key_confidence, and tempo_confidence are all positive. The high condifence might leads more likely to be Top10. Therefore less complex songs will have high possible to be Top10."
   ]
  },
  {
   "cell_type": "markdown",
   "metadata": {},
   "source": [
    "# 2.5 - Creating Prediction Model"
   ]
  },
  {
   "cell_type": "markdown",
   "metadata": {},
   "source": [
    "### Answer A: The coefficents of loudness is positive. The heavy instrumentation might leads more likely to be Top10. "
   ]
  },
  {
   "cell_type": "markdown",
   "metadata": {},
   "source": [
    "# 3.1 - Validating Model"
   ]
  },
  {
   "cell_type": "markdown",
   "metadata": {},
   "source": [
    "### Make predictions on the test set using our model. What is the accuracy of our model on the test set (Compute the accuracy as a number between 0 and 1.)"
   ]
  },
  {
   "cell_type": "code",
   "execution_count": 25,
   "metadata": {},
   "outputs": [
    {
     "data": {
      "text/plain": [
       "0.8632707774798928"
      ]
     },
     "execution_count": 25,
     "metadata": {},
     "output_type": "execute_result"
    }
   ],
   "source": [
    "accurcy = lr.score(X_test, y_test)\n",
    "accurcy"
   ]
  },
  {
   "cell_type": "markdown",
   "metadata": {},
   "source": [
    "# 3.2 - Validating Model"
   ]
  },
  {
   "cell_type": "markdown",
   "metadata": {},
   "source": [
    "### What is the True Positive Rate of our model on the test set?"
   ]
  },
  {
   "cell_type": "code",
   "execution_count": 26,
   "metadata": {},
   "outputs": [
    {
     "name": "stdout",
     "output_type": "stream",
     "text": [
      "[[313   1]\n",
      " [ 50   9]]\n"
     ]
    }
   ],
   "source": [
    "predictions = lr.predict(X_test)\n",
    "cm = metrics.confusion_matrix(y_test, predictions)\n",
    "print(cm)"
   ]
  },
  {
   "cell_type": "code",
   "execution_count": 27,
   "metadata": {},
   "outputs": [],
   "source": [
    "#print(classification_report(predictions, y_pred))"
   ]
  },
  {
   "cell_type": "code",
   "execution_count": 28,
   "metadata": {},
   "outputs": [
    {
     "data": {
      "text/plain": [
       "0.15254237288135594"
      ]
     },
     "execution_count": 28,
     "metadata": {},
     "output_type": "execute_result"
    }
   ],
   "source": [
    "#tp / (tp + fn) \n",
    "TPR = metrics.recall_score(y_test, predictions)\n",
    "TPR"
   ]
  },
  {
   "cell_type": "markdown",
   "metadata": {},
   "source": [
    "### What is the False Positive Rate of our model on the test set?"
   ]
  },
  {
   "cell_type": "code",
   "execution_count": 29,
   "metadata": {},
   "outputs": [
    {
     "data": {
      "text/plain": [
       "0.0031847133757961785"
      ]
     },
     "execution_count": 29,
     "metadata": {},
     "output_type": "execute_result"
    }
   ],
   "source": [
    "#fp / (fp + tn)\n",
    "FPR=1/(313+1)\n",
    "FPR"
   ]
  }
 ],
 "metadata": {
  "kernelspec": {
   "display_name": "Python 3",
   "language": "python",
   "name": "python3"
  },
  "language_info": {
   "codemirror_mode": {
    "name": "ipython",
    "version": 3
   },
   "file_extension": ".py",
   "mimetype": "text/x-python",
   "name": "python",
   "nbconvert_exporter": "python",
   "pygments_lexer": "ipython3",
   "version": "3.7.3"
  }
 },
 "nbformat": 4,
 "nbformat_minor": 2
}
